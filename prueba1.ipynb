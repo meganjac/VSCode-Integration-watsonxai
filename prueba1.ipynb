{
 "cells": [
  {
   "cell_type": "markdown",
   "id": "883748e7-1cd5-41f8-b6c6-d2a518628ce6",
   "metadata": {
    "id": "883748e7-1cd5-41f8-b6c6-d2a518628ce6"
   },
   "source": [
    "prueba 1 en nb"
   ]
  }
 ],
 "metadata": {
  "kernelspec": {
   "display_name": "Python 3.11",
   "language": "python",
   "name": "python3"
  },
  "language_info": {
   "codemirror_mode": {
    "name": "ipython",
    "version": 3
   },
   "file_extension": ".py",
   "mimetype": "text/x-python",
   "name": "python",
   "nbconvert_exporter": "python",
   "pygments_lexer": "ipython3",
   "version": "3.11.9"
  }
 },
 "nbformat": 4,
 "nbformat_minor": 5
}
